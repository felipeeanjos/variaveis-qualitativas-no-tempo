{
 "cells": [
  {
   "cell_type": "code",
   "execution_count": 1,
   "metadata": {},
   "outputs": [],
   "source": [
    "import numpy as np\n",
    "import pandas as pd\n",
    "import matplotlib.pyplot as plt\n",
    "import seaborn as sns"
   ]
  },
  {
   "cell_type": "markdown",
   "metadata": {},
   "source": [
    "# Módulo 10 tarefa 03\n",
    "Considere a mesma base de dados utilizada na tarefa 1 ```previsao_de_renda.csv```."
   ]
  },
  {
   "cell_type": "code",
   "execution_count": 2,
   "metadata": {},
   "outputs": [],
   "source": [
    "df = pd.read_csv('previsao_de_renda.csv')"
   ]
  },
  {
   "cell_type": "code",
   "execution_count": 3,
   "metadata": {
    "scrolled": true
   },
   "outputs": [
    {
     "data": {
      "text/html": [
       "<div>\n",
       "<style scoped>\n",
       "    .dataframe tbody tr th:only-of-type {\n",
       "        vertical-align: middle;\n",
       "    }\n",
       "\n",
       "    .dataframe tbody tr th {\n",
       "        vertical-align: top;\n",
       "    }\n",
       "\n",
       "    .dataframe thead th {\n",
       "        text-align: right;\n",
       "    }\n",
       "</style>\n",
       "<table border=\"1\" class=\"dataframe\">\n",
       "  <thead>\n",
       "    <tr style=\"text-align: right;\">\n",
       "      <th></th>\n",
       "      <th>Unnamed: 0</th>\n",
       "      <th>data_ref</th>\n",
       "      <th>index</th>\n",
       "      <th>sexo</th>\n",
       "      <th>posse_de_veiculo</th>\n",
       "      <th>posse_de_imovel</th>\n",
       "      <th>qtd_filhos</th>\n",
       "      <th>tipo_renda</th>\n",
       "      <th>educacao</th>\n",
       "      <th>estado_civil</th>\n",
       "      <th>tipo_residencia</th>\n",
       "      <th>idade</th>\n",
       "      <th>tempo_emprego</th>\n",
       "      <th>qt_pessoas_residencia</th>\n",
       "      <th>mau</th>\n",
       "      <th>renda</th>\n",
       "    </tr>\n",
       "  </thead>\n",
       "  <tbody>\n",
       "    <tr>\n",
       "      <th>0</th>\n",
       "      <td>0</td>\n",
       "      <td>2015-01-01</td>\n",
       "      <td>8682</td>\n",
       "      <td>F</td>\n",
       "      <td>False</td>\n",
       "      <td>True</td>\n",
       "      <td>1</td>\n",
       "      <td>Assalariado</td>\n",
       "      <td>Secundário</td>\n",
       "      <td>Casado</td>\n",
       "      <td>Casa</td>\n",
       "      <td>36</td>\n",
       "      <td>3.575342</td>\n",
       "      <td>3.0</td>\n",
       "      <td>False</td>\n",
       "      <td>3369.24</td>\n",
       "    </tr>\n",
       "    <tr>\n",
       "      <th>1</th>\n",
       "      <td>1</td>\n",
       "      <td>2015-01-01</td>\n",
       "      <td>12830</td>\n",
       "      <td>M</td>\n",
       "      <td>True</td>\n",
       "      <td>True</td>\n",
       "      <td>0</td>\n",
       "      <td>Empresário</td>\n",
       "      <td>Secundário</td>\n",
       "      <td>Casado</td>\n",
       "      <td>Casa</td>\n",
       "      <td>42</td>\n",
       "      <td>0.860274</td>\n",
       "      <td>2.0</td>\n",
       "      <td>False</td>\n",
       "      <td>6096.14</td>\n",
       "    </tr>\n",
       "    <tr>\n",
       "      <th>2</th>\n",
       "      <td>2</td>\n",
       "      <td>2015-01-01</td>\n",
       "      <td>2885</td>\n",
       "      <td>M</td>\n",
       "      <td>True</td>\n",
       "      <td>True</td>\n",
       "      <td>2</td>\n",
       "      <td>Assalariado</td>\n",
       "      <td>Superior completo</td>\n",
       "      <td>Casado</td>\n",
       "      <td>Casa</td>\n",
       "      <td>31</td>\n",
       "      <td>8.065753</td>\n",
       "      <td>4.0</td>\n",
       "      <td>False</td>\n",
       "      <td>5658.98</td>\n",
       "    </tr>\n",
       "    <tr>\n",
       "      <th>3</th>\n",
       "      <td>3</td>\n",
       "      <td>2015-01-01</td>\n",
       "      <td>16168</td>\n",
       "      <td>F</td>\n",
       "      <td>True</td>\n",
       "      <td>False</td>\n",
       "      <td>0</td>\n",
       "      <td>Empresário</td>\n",
       "      <td>Secundário</td>\n",
       "      <td>Casado</td>\n",
       "      <td>Casa</td>\n",
       "      <td>50</td>\n",
       "      <td>1.208219</td>\n",
       "      <td>2.0</td>\n",
       "      <td>False</td>\n",
       "      <td>7246.69</td>\n",
       "    </tr>\n",
       "    <tr>\n",
       "      <th>4</th>\n",
       "      <td>4</td>\n",
       "      <td>2015-01-01</td>\n",
       "      <td>12438</td>\n",
       "      <td>M</td>\n",
       "      <td>False</td>\n",
       "      <td>False</td>\n",
       "      <td>0</td>\n",
       "      <td>Assalariado</td>\n",
       "      <td>Secundário</td>\n",
       "      <td>Casado</td>\n",
       "      <td>Casa</td>\n",
       "      <td>52</td>\n",
       "      <td>13.873973</td>\n",
       "      <td>2.0</td>\n",
       "      <td>False</td>\n",
       "      <td>4017.37</td>\n",
       "    </tr>\n",
       "  </tbody>\n",
       "</table>\n",
       "</div>"
      ],
      "text/plain": [
       "   Unnamed: 0    data_ref  index sexo  posse_de_veiculo  posse_de_imovel  \\\n",
       "0           0  2015-01-01   8682    F             False             True   \n",
       "1           1  2015-01-01  12830    M              True             True   \n",
       "2           2  2015-01-01   2885    M              True             True   \n",
       "3           3  2015-01-01  16168    F              True            False   \n",
       "4           4  2015-01-01  12438    M             False            False   \n",
       "\n",
       "   qtd_filhos   tipo_renda           educacao estado_civil tipo_residencia  \\\n",
       "0           1  Assalariado         Secundário       Casado            Casa   \n",
       "1           0   Empresário         Secundário       Casado            Casa   \n",
       "2           2  Assalariado  Superior completo       Casado            Casa   \n",
       "3           0   Empresário         Secundário       Casado            Casa   \n",
       "4           0  Assalariado         Secundário       Casado            Casa   \n",
       "\n",
       "   idade  tempo_emprego  qt_pessoas_residencia    mau    renda  \n",
       "0     36       3.575342                    3.0  False  3369.24  \n",
       "1     42       0.860274                    2.0  False  6096.14  \n",
       "2     31       8.065753                    4.0  False  5658.98  \n",
       "3     50       1.208219                    2.0  False  7246.69  \n",
       "4     52      13.873973                    2.0  False  4017.37  "
      ]
     },
     "execution_count": 3,
     "metadata": {},
     "output_type": "execute_result"
    }
   ],
   "source": [
    "df.head()"
   ]
  },
  {
   "cell_type": "markdown",
   "metadata": {},
   "source": [
    "1) Construa um gráfico de barras para avaliar a distribuição das variáveis qualitativas no tempo. Você acha que houve alguma alteração importante a ser investigada?\n",
    "\n",
    "2) Para cada variável qualitativa, construa um gráfico mostrando as médias de cada nível da variável no tempo e avalie a estabilidade. Houve alguma alteração importante? Você acha que se pode utilizar essas variáveis em uma modelagem?"
   ]
  },
  {
   "cell_type": "code",
   "execution_count": 10,
   "metadata": {
    "scrolled": true
   },
   "outputs": [
    {
     "data": {
      "text/html": [
       "<div>\n",
       "<style scoped>\n",
       "    .dataframe tbody tr th:only-of-type {\n",
       "        vertical-align: middle;\n",
       "    }\n",
       "\n",
       "    .dataframe tbody tr th {\n",
       "        vertical-align: top;\n",
       "    }\n",
       "\n",
       "    .dataframe thead th {\n",
       "        text-align: right;\n",
       "    }\n",
       "</style>\n",
       "<table border=\"1\" class=\"dataframe\">\n",
       "  <thead>\n",
       "    <tr style=\"text-align: right;\">\n",
       "      <th>sexo</th>\n",
       "      <th>F</th>\n",
       "      <th>M</th>\n",
       "    </tr>\n",
       "    <tr>\n",
       "      <th>data_ref</th>\n",
       "      <th></th>\n",
       "      <th></th>\n",
       "    </tr>\n",
       "  </thead>\n",
       "  <tbody>\n",
       "    <tr>\n",
       "      <th>2015-01-01</th>\n",
       "      <td>0.660</td>\n",
       "      <td>0.340</td>\n",
       "    </tr>\n",
       "    <tr>\n",
       "      <th>2015-02-01</th>\n",
       "      <td>0.675</td>\n",
       "      <td>0.325</td>\n",
       "    </tr>\n",
       "    <tr>\n",
       "      <th>2015-03-01</th>\n",
       "      <td>0.687</td>\n",
       "      <td>0.313</td>\n",
       "    </tr>\n",
       "    <tr>\n",
       "      <th>2015-04-01</th>\n",
       "      <td>0.676</td>\n",
       "      <td>0.324</td>\n",
       "    </tr>\n",
       "    <tr>\n",
       "      <th>2015-05-01</th>\n",
       "      <td>0.689</td>\n",
       "      <td>0.311</td>\n",
       "    </tr>\n",
       "    <tr>\n",
       "      <th>2015-06-01</th>\n",
       "      <td>0.665</td>\n",
       "      <td>0.335</td>\n",
       "    </tr>\n",
       "    <tr>\n",
       "      <th>2015-07-01</th>\n",
       "      <td>0.681</td>\n",
       "      <td>0.319</td>\n",
       "    </tr>\n",
       "    <tr>\n",
       "      <th>2015-08-01</th>\n",
       "      <td>0.681</td>\n",
       "      <td>0.319</td>\n",
       "    </tr>\n",
       "    <tr>\n",
       "      <th>2015-09-01</th>\n",
       "      <td>0.673</td>\n",
       "      <td>0.327</td>\n",
       "    </tr>\n",
       "    <tr>\n",
       "      <th>2015-10-01</th>\n",
       "      <td>0.682</td>\n",
       "      <td>0.318</td>\n",
       "    </tr>\n",
       "    <tr>\n",
       "      <th>2015-11-01</th>\n",
       "      <td>0.681</td>\n",
       "      <td>0.319</td>\n",
       "    </tr>\n",
       "    <tr>\n",
       "      <th>2015-12-01</th>\n",
       "      <td>0.695</td>\n",
       "      <td>0.305</td>\n",
       "    </tr>\n",
       "    <tr>\n",
       "      <th>2016-01-01</th>\n",
       "      <td>0.694</td>\n",
       "      <td>0.306</td>\n",
       "    </tr>\n",
       "    <tr>\n",
       "      <th>2016-02-01</th>\n",
       "      <td>0.678</td>\n",
       "      <td>0.322</td>\n",
       "    </tr>\n",
       "    <tr>\n",
       "      <th>2016-03-01</th>\n",
       "      <td>0.650</td>\n",
       "      <td>0.350</td>\n",
       "    </tr>\n",
       "  </tbody>\n",
       "</table>\n",
       "</div>"
      ],
      "text/plain": [
       "sexo            F      M\n",
       "data_ref                \n",
       "2015-01-01  0.660  0.340\n",
       "2015-02-01  0.675  0.325\n",
       "2015-03-01  0.687  0.313\n",
       "2015-04-01  0.676  0.324\n",
       "2015-05-01  0.689  0.311\n",
       "2015-06-01  0.665  0.335\n",
       "2015-07-01  0.681  0.319\n",
       "2015-08-01  0.681  0.319\n",
       "2015-09-01  0.673  0.327\n",
       "2015-10-01  0.682  0.318\n",
       "2015-11-01  0.681  0.319\n",
       "2015-12-01  0.695  0.305\n",
       "2016-01-01  0.694  0.306\n",
       "2016-02-01  0.678  0.322\n",
       "2016-03-01  0.650  0.350"
      ]
     },
     "execution_count": 10,
     "metadata": {},
     "output_type": "execute_result"
    }
   ],
   "source": [
    "tab = pd.crosstab(df['data_ref'],df['sexo'])\n",
    "tab.div(tab.sum(axis=1),axis=0)"
   ]
  },
  {
   "cell_type": "code",
   "execution_count": 44,
   "metadata": {},
   "outputs": [
    {
     "data": {
      "text/plain": [
       "<matplotlib.legend.Legend at 0x276a4846970>"
      ]
     },
     "execution_count": 44,
     "metadata": {},
     "output_type": "execute_result"
    },
    {
     "data": {
      "image/png": "[encoded data removed]",
      "text/plain": [
       "<Figure size 432x288 with 1 Axes>"
      ]
     },
     "metadata": {
      "needs_background": "light"
     },
     "output_type": "display_data"
    }
   ],
   "source": [
    "tab_freq = pd.crosstab(df['data_ref'],df['sexo'])\n",
    "tab= tab_freq.div(tab.sum(axis=1),axis=0)\n",
    "\n",
    "ax = tab.plot.bar(stacked=True)\n",
    "\n",
    "plt.legend(title='sexo' ,bbox_to_anchor =(1.2,1) )"
   ]
  },
  {
   "cell_type": "code",
   "execution_count": 43,
   "metadata": {
    "scrolled": false
   },
   "outputs": [
    {
     "data": {
      "text/plain": [
       "<matplotlib.legend.Legend at 0x276a2545ac0>"
      ]
     },
     "execution_count": 43,
     "metadata": {},
     "output_type": "execute_result"
    },
    {
     "data": {
      "image/png": "[encoded data removed]",
      "text/plain": [
       "<Figure size 432x288 with 1 Axes>"
      ]
     },
     "metadata": {
      "needs_background": "light"
     },
     "output_type": "display_data"
    }
   ],
   "source": [
    "tab_freq = pd.crosstab(df['data_ref'],df['posse_de_veiculo'])\n",
    "tab= tab_freq.div(tab_freq.sum(axis=1),axis=0)\n",
    "\n",
    "ax = tab.plot.bar(stacked=True)\n",
    "\n",
    "plt.legend(title='possui veículo' ,bbox_to_anchor =(1.35,1) )"
   ]
  },
  {
   "cell_type": "code",
   "execution_count": 46,
   "metadata": {
    "scrolled": true
   },
   "outputs": [
    {
     "data": {
      "text/plain": [
       "<matplotlib.legend.Legend at 0x276a4813850>"
      ]
     },
     "execution_count": 46,
     "metadata": {},
     "output_type": "execute_result"
    },
    {
     "data": {
      "image/png": "[encoded data removed]",
      "text/plain": [
       "<Figure size 432x288 with 1 Axes>"
      ]
     },
     "metadata": {
      "needs_background": "light"
     },
     "output_type": "display_data"
    }
   ],
   "source": [
    "tab_freq = pd.crosstab(df['data_ref'],df['posse_de_imovel'])\n",
    "tab= tab_freq.div(tab_freq.sum(axis=1),axis=0)\n",
    "\n",
    "ax = tab.plot.bar(stacked=True)\n",
    "\n",
    "plt.legend(title='possui imovel' ,bbox_to_anchor =(1.35,1) )"
   ]
  },
  {
   "cell_type": "code",
   "execution_count": 48,
   "metadata": {
    "scrolled": true
   },
   "outputs": [
    {
     "data": {
      "text/plain": [
       "<matplotlib.legend.Legend at 0x276a4a1c5e0>"
      ]
     },
     "execution_count": 48,
     "metadata": {},
     "output_type": "execute_result"
    },
    {
     "data": {
      "image/png": "[encoded data removed]",
      "text/plain": [
       "<Figure size 432x288 with 1 Axes>"
      ]
     },
     "metadata": {
      "needs_background": "light"
     },
     "output_type": "display_data"
    }
   ],
   "source": [
    "tab_freq = pd.crosstab(df['data_ref'],df['tipo_residencia'])\n",
    "tab= tab_freq.div(tab_freq.sum(axis=1),axis=0)\n",
    "\n",
    "ax = tab.plot.bar(stacked=True)\n",
    "\n",
    "plt.legend(title='tipo de residencia' ,bbox_to_anchor =(1.1,1) )"
   ]
  },
  {
   "cell_type": "code",
   "execution_count": 49,
   "metadata": {},
   "outputs": [
    {
     "data": {
      "text/plain": [
       "<matplotlib.legend.Legend at 0x276a49c1130>"
      ]
     },
     "execution_count": 49,
     "metadata": {},
     "output_type": "execute_result"
    },
    {
     "data": {
      "image/png": "[encoded data removed]",
      "text/plain": [
       "<Figure size 432x288 with 1 Axes>"
      ]
     },
     "metadata": {
      "needs_background": "light"
     },
     "output_type": "display_data"
    }
   ],
   "source": [
    "tab_freq = pd.crosstab(df['data_ref'],df['tipo_renda'])\n",
    "tab= tab_freq.div(tab_freq.sum(axis=1),axis=0)\n",
    "\n",
    "ax = tab.plot.bar(stacked=True)\n",
    "\n",
    "plt.legend(title='tipo de renda' ,bbox_to_anchor =(1.25,1) )"
   ]
  },
  {
   "cell_type": "code",
   "execution_count": 50,
   "metadata": {},
   "outputs": [
    {
     "data": {
      "text/plain": [
       "<matplotlib.legend.Legend at 0x276a4ea8250>"
      ]
     },
     "execution_count": 50,
     "metadata": {},
     "output_type": "execute_result"
    },
    {
     "data": {
      "image/png": "[encoded data removed]",
      "text/plain": [
       "<Figure size 432x288 with 1 Axes>"
      ]
     },
     "metadata": {
      "needs_background": "light"
     },
     "output_type": "display_data"
    }
   ],
   "source": [
    "tab_freq = pd.crosstab(df['data_ref'],df['educacao'])\n",
    "tab= tab_freq.div(tab_freq.sum(axis=1),axis=0)\n",
    "\n",
    "ax = tab.plot.bar(stacked=True)\n",
    "\n",
    "plt.legend(title='educação' ,bbox_to_anchor =(1.25,1) )"
   ]
  },
  {
   "cell_type": "code",
   "execution_count": 52,
   "metadata": {},
   "outputs": [
    {
     "data": {
      "text/plain": [
       "<matplotlib.legend.Legend at 0x276a5fafc40>"
      ]
     },
     "execution_count": 52,
     "metadata": {},
     "output_type": "execute_result"
    },
    {
     "data": {
      "image/png": "[encoded data removed]",
      "text/plain": [
       "<Figure size 432x288 with 1 Axes>"
      ]
     },
     "metadata": {
      "needs_background": "light"
     },
     "output_type": "display_data"
    }
   ],
   "source": [
    "tab_freq = pd.crosstab(df['data_ref'],df['estado_civil'])\n",
    "tab= tab_freq.div(tab_freq.sum(axis=1),axis=0)\n",
    "\n",
    "ax = tab.plot.bar(stacked=True)\n",
    "\n",
    "plt.legend(title='estado civil' ,bbox_to_anchor =(1.35,1) )"
   ]
  },
  {
   "cell_type": "markdown",
   "metadata": {},
   "source": [
    "Todas variáveis se mantiveram estáveis ao longo do tempo, claro houveram alterações mas nada significativo que precisamos nos preocupar, sendo assim, usaria sem dúvida essas variáveis em uma modelagem"
   ]
  }
 ],
 "metadata": {
  "kernelspec": {
   "display_name": "Python 3 (ipykernel)",
   "language": "python",
   "name": "python3"
  },
  "language_info": {
   "codemirror_mode": {
    "name": "ipython",
    "version": 3
   },
   "file_extension": ".py",
   "mimetype": "text/x-python",
   "name": "python",
   "nbconvert_exporter": "python",
   "pygments_lexer": "ipython3",
   "version": "3.9.12"
  }
 },
 "nbformat": 4,
 "nbformat_minor": 4
}
